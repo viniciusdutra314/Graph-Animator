{
 "cells": [
  {
   "cell_type": "markdown",
   "id": "29e88b7f",
   "metadata": {},
   "source": [
    "# Modules and Variables"
   ]
  },
  {
   "cell_type": "code",
   "execution_count": 12,
   "id": "577ab5c7",
   "metadata": {},
   "outputs": [],
   "source": [
    "import matplotlib.pyplot as plt\n",
    "import mplcyberpunk\n",
    "from moviepy.editor import *\n",
    "import numpy as np \n",
    "import os\n",
    "import shutil\n",
    "\n",
    "fps=30 #frames per second\n",
    "duration=4 #in seconds\n",
    "resolution=\"full_HD\"\n",
    "file_name=\"lei-de-potencia-log\"\n",
    "#convertion to dpi\n",
    "resolutiontodpi={\"preview\":50,\"HD\":150,\"full_HD\":300,\"4k\":600}\n",
    "try: os.mkdir(\"tempfiles\")\n",
    "except:pass"
   ]
  },
  {
   "cell_type": "markdown",
   "id": "e09ce6ab",
   "metadata": {},
   "source": [
    "# Graph "
   ]
  },
  {
   "cell_type": "code",
   "execution_count": null,
   "id": "909db187",
   "metadata": {},
   "outputs": [],
   "source": [
    "time=np.linspace(0,4,fps*duration)\n",
    "x=np.linspace(1,10,1000)\n",
    "j=0\n",
    "for t in time:\n",
    "    plt.clf()\n",
    "    y=x**t\n",
    "    plt.title(r\"$y=x^\\alpha$\")\n",
    "    ##Style\n",
    "    plt.yscale(\"log\")\n",
    "    plt.xscale(\"log\")\n",
    "    plt.plot(x,y,label=r\"$\\alpha=$\"+str(round(t,3)))\n",
    "    plt.xlim(1,10)\n",
    "    plt.ylim(1,10_000)\n",
    "    plt.legend() #active this line when there's labels\n",
    "    ##Code\n",
    "    plt.style.use(\"cyberpunk\")\n",
    "    mplcyberpunk.add_glow_effects()\n",
    "    plt.savefig(\"tempfiles\"+\"\\\\\"+file_name+str(j)+\".jpg\",dpi=300)\n",
    "    j+=1\n",
    "pictures=[]\n",
    "j=0\n"
   ]
  },
  {
   "cell_type": "markdown",
   "id": "1537db1b",
   "metadata": {},
   "source": [
    "# Video coding"
   ]
  },
  {
   "cell_type": "code",
   "execution_count": 8,
   "id": "a7c29a3b",
   "metadata": {},
   "outputs": [
    {
     "name": "stdout",
     "output_type": "stream",
     "text": [
      "Moviepy - Building video lei-de-potencia.mp4.\n",
      "Moviepy - Writing video lei-de-potencia.mp4\n",
      "\n"
     ]
    },
    {
     "name": "stderr",
     "output_type": "stream",
     "text": [
      "                                                                                                                       \r"
     ]
    },
    {
     "name": "stdout",
     "output_type": "stream",
     "text": [
      "Moviepy - Done !\n",
      "Moviepy - video ready lei-de-potencia.mp4\n"
     ]
    }
   ],
   "source": [
    "for _ in range(len(time)):\n",
    "    pictures.append(ImageClip(\"tempfiles\"+\"\\\\\"+file_name+str(j)+'.jpg').set_duration(1/fps))\n",
    "    j+=1\n",
    "shutil.rmtree('tempfiles')\n",
    "video = concatenate(pictures, method=\"compose\")\n",
    "video.write_videofile(file_name+'.mp4', fps=30, codec='h264')\n"
   ]
  },
  {
   "cell_type": "markdown",
   "id": "d989dd3d",
   "metadata": {},
   "source": [
    "# Do whatever you want here"
   ]
  },
  {
   "cell_type": "code",
   "execution_count": 4,
   "id": "345b4019",
   "metadata": {},
   "outputs": [
    {
     "name": "stdout",
     "output_type": "stream",
     "text": [
      "[ 0.63095238 18.98214286]\n"
     ]
    },
    {
     "data": {
      "text/plain": [
       "13.03136399999999"
      ]
     },
     "execution_count": 4,
     "metadata": {},
     "output_type": "execute_result"
    }
   ],
   "source": [
    "y=[26.1,30.1,37.3,44.5,50.6,59.6,62.7,68.1]\n",
    "x=[10,20,30,40,50,60,70,80]\n",
    "print(np.polyfit(x,y,1))\n",
    "def error(x,y,a,b):\n",
    "    erro=0\n",
    "    for j in range(len(x)):\n",
    "        erro+=(a*x[j]+b-y[j])**2\n",
    "    return erro\n",
    "error(x,y,0.6309,18.98)"
   ]
  },
  {
   "cell_type": "code",
   "execution_count": null,
   "id": "774fcc95",
   "metadata": {},
   "outputs": [],
   "source": []
  }
 ],
 "metadata": {
  "kernelspec": {
   "display_name": "Python 3 (ipykernel)",
   "language": "python",
   "name": "python3"
  },
  "language_info": {
   "codemirror_mode": {
    "name": "ipython",
    "version": 3
   },
   "file_extension": ".py",
   "mimetype": "text/x-python",
   "name": "python",
   "nbconvert_exporter": "python",
   "pygments_lexer": "ipython3",
   "version": "3.9.12"
  }
 },
 "nbformat": 4,
 "nbformat_minor": 5
}
