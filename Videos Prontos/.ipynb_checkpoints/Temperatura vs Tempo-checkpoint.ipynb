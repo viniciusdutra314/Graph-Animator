{
 "cells": [
  {
   "cell_type": "markdown",
   "id": "29e88b7f",
   "metadata": {},
   "source": [
    "# Modules and Variables"
   ]
  },
  {
   "cell_type": "code",
   "execution_count": 1,
   "id": "577ab5c7",
   "metadata": {},
   "outputs": [],
   "source": [
    "import matplotlib.pyplot as plt\n",
    "import mplcyberpunk\n",
    "from moviepy.editor import *\n",
    "import numpy as np \n",
    "import os\n",
    "import shutil\n",
    "\n",
    "fps=30 #frames per second\n",
    "duration=8 #in seconds\n",
    "resolution=\"full_HD\"\n",
    "file_name=\"temperatura\"\n",
    "#convertion to dpi\n",
    "resolutiontodpi={\"HD\":150,\"full_HD\":300,\"4k\":600}\n",
    "try: os.mkdir(\"tempfiles\")\n",
    "except:pass"
   ]
  },
  {
   "cell_type": "markdown",
   "id": "e09ce6ab",
   "metadata": {},
   "source": [
    "# Graph "
   ]
  },
  {
   "cell_type": "code",
   "execution_count": null,
   "id": "909db187",
   "metadata": {},
   "outputs": [],
   "source": [
    "x=np.linspace(10,80,1000)\n",
    "time=np.linspace(0,3,fps*duration)\n",
    "j=0\n",
    "for t in time:\n",
    "    plt.clf()\n",
    "    ##Math\n",
    "    if t<0.63:\n",
    "        y=t*x+ 19\n",
    "    else:\n",
    "        y=0.63*x*(1+0.1*np.sin((t-0.63)*50/3))+19\n",
    "        z=0.63*x +19\n",
    "        plt.plot(x,z,label=\"Melhor Reta\",color=\"Green\",alpha=0.5,linestyle=\"dashed\")\n",
    "    plt.plot(x,y,label=\"Reta\",color=\"Red\")\n",
    "    plt.scatter(x=[10,20,30,40,50,60,70,80],y=[26.1,30.1,37.3,44.5,50.6,59.6,62.7,68.1],label=\"Dados\")\n",
    "    ##Style\n",
    "    plt.style.use(\"cyberpunk\")\n",
    "    plt.xlim(10,80)\n",
    "    plt.ylim(25,70)\n",
    "    plt.xlabel(\"Tempo\")\n",
    "    plt.ylabel(\"Temperatura (ºC)\")\n",
    "    plt.legend() #active this line when there's labels\n",
    "    ##Code\n",
    "    mplcyberpunk.add_glow_effects()\n",
    "    plt.savefig(\"tempfiles\"+\"\\\\\"+file_name+str(j)+\".jpg\",dpi=300)\n",
    "    j+=1\n",
    "pictures=[]\n",
    "j=0\n"
   ]
  },
  {
   "cell_type": "markdown",
   "id": "1537db1b",
   "metadata": {},
   "source": [
    "# Video coding"
   ]
  },
  {
   "cell_type": "code",
   "execution_count": 75,
   "id": "a7c29a3b",
   "metadata": {},
   "outputs": [
    {
     "name": "stdout",
     "output_type": "stream",
     "text": [
      "Moviepy - Building video neon.mp4.\n",
      "Moviepy - Writing video neon.mp4\n",
      "\n"
     ]
    },
    {
     "name": "stderr",
     "output_type": "stream",
     "text": [
      "                                                                                                                       \r"
     ]
    },
    {
     "name": "stdout",
     "output_type": "stream",
     "text": [
      "Moviepy - Done !\n",
      "Moviepy - video ready neon.mp4\n"
     ]
    }
   ],
   "source": [
    "for _ in range(len(time)):\n",
    "    pictures.append(ImageClip(\"tempfiles\"+\"\\\\\"+file_name+str(j)+'.jpg').set_duration(1/fps))\n",
    "    j+=1\n",
    "shutil.rmtree('tempfiles')\n",
    "video = concatenate(pictures, method=\"compose\")\n",
    "video.write_videofile(file_name+'.mp4', fps=30)\n"
   ]
  },
  {
   "cell_type": "markdown",
   "id": "f3ea3972",
   "metadata": {},
   "source": [
    "# Do whatever you want here"
   ]
  },
  {
   "cell_type": "code",
   "execution_count": 43,
   "id": "345b4019",
   "metadata": {},
   "outputs": [
    {
     "data": {
      "text/plain": [
       "array([ 0.63095238, 18.98214286])"
      ]
     },
     "execution_count": 43,
     "metadata": {},
     "output_type": "execute_result"
    }
   ],
   "source": [
    "y=[26.1,30.1,37.3,44.5,50.6,59.6,62.7,68.1]\n",
    "x=[10,20,30,40,50,60,70,80]\n",
    "np.polyfit(x,y,1)"
   ]
  }
 ],
 "metadata": {
  "kernelspec": {
   "display_name": "Python 3 (ipykernel)",
   "language": "python",
   "name": "python3"
  },
  "language_info": {
   "codemirror_mode": {
    "name": "ipython",
    "version": 3
   },
   "file_extension": ".py",
   "mimetype": "text/x-python",
   "name": "python",
   "nbconvert_exporter": "python",
   "pygments_lexer": "ipython3",
   "version": "3.9.12"
  }
 },
 "nbformat": 4,
 "nbformat_minor": 5
}
