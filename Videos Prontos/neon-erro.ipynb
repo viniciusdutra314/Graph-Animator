{
 "cells": [
  {
   "cell_type": "markdown",
   "id": "29e88b7f",
   "metadata": {},
   "source": [
    "# Modules and Variables"
   ]
  },
  {
   "cell_type": "code",
   "execution_count": 38,
   "id": "577ab5c7",
   "metadata": {},
   "outputs": [],
   "source": [
    "import matplotlib.pyplot as plt\n",
    "import mplcyberpunk\n",
    "from moviepy.editor import *\n",
    "import numpy as np \n",
    "import os\n",
    "import shutil\n",
    "\n",
    "fps=30 #frames per second\n",
    "duration=8 #in seconds\n",
    "resolution=\"full_HD\"\n",
    "file_name=\"neon-erro\"\n",
    "#convertion to dpi\n",
    "resolutiontodpi={\"preview\":50,\"HD\":150,\"full_HD\":300,\"4k\":600}\n",
    "try: os.mkdir(\"tempfiles\")\n",
    "except:pass"
   ]
  },
  {
   "cell_type": "markdown",
   "id": "e09ce6ab",
   "metadata": {},
   "source": [
    "# Graph "
   ]
  },
  {
   "cell_type": "code",
   "execution_count": 45,
   "id": "909db187",
   "metadata": {},
   "outputs": [
    {
     "data": {
      "image/png": "[encoded data removed]",
      "text/plain": [
       "<Figure size 432x288 with 1 Axes>"
      ]
     },
     "metadata": {},
     "output_type": "display_data"
    }
   ],
   "source": [
    "time=np.linspace(0,2,fps*duration)\n",
    "j=0\n",
    "y=[26.1,30.1,37.3,44.5,50.6,59.6,62.7,68.1]\n",
    "x=[10,20,30,40,50,60,70,80]\n",
    "Erroro=[]\n",
    "dic={}\n",
    "k=0\n",
    "for t in time:\n",
    "    if t<=1:\n",
    "        Erroro.append(error(x,y,t))\n",
    "    dic[t]=k\n",
    "    k+=1\n",
    "for t in time:\n",
    "    plt.clf()\n",
    "    ##Math\n",
    "    plt.yscale(\"log\")\n",
    "    plt.ylim(0,8_000)\n",
    "    if t<0.63:\n",
    "        z=np.linspace(0,t,dic[t])\n",
    "        plt.plot(z,Erroro[0:dic[t]])\n",
    "        plt.scatter(t,error(x,y,t),color=\"red\")\n",
    "    if t>=0.63:\n",
    "        if t<1:\n",
    "            z=np.linspace(0,t,dic[t])\n",
    "            plt.plot(z,Erroro[0:dic[t]])\n",
    "        if t>=1:\n",
    "            z=np.linspace(0,1,len(Erroro))\n",
    "            plt.plot(z,Erroro)\n",
    "        t2=0.63*(1+0.1*np.sin((t-0.63)*50/3))\n",
    "        plt.scatter(t2,error(x,y,t2),color=\"red\")\n",
    "    ##Style\n",
    "    plt.style.use(\"cyberpunk\")\n",
    "    plt.xlim(0,1)\n",
    "    plt.xlabel(\"Coeficiente Angular\")\n",
    "    plt.ylabel(\"Erro Quadrático\")\n",
    "    #plt.legend() #active this line when there's labels\n",
    "    ##Code\n",
    "    mplcyberpunk.add_glow_effects()\n",
    "    plt.savefig(\"tempfiles\"+\"\\\\\"+file_name+str(j)+\".jpg\",dpi=300)\n",
    "    j+=1\n",
    "pictures=[]\n",
    "j=0\n"
   ]
  },
  {
   "cell_type": "markdown",
   "id": "1537db1b",
   "metadata": {},
   "source": [
    "# Video coding"
   ]
  },
  {
   "cell_type": "code",
   "execution_count": 46,
   "id": "a7c29a3b",
   "metadata": {},
   "outputs": [
    {
     "name": "stdout",
     "output_type": "stream",
     "text": [
      "Moviepy - Building video neon-erro.mp4.\n",
      "Moviepy - Writing video neon-erro.mp4\n",
      "\n"
     ]
    },
    {
     "name": "stderr",
     "output_type": "stream",
     "text": [
      "                                                                                                                       \r"
     ]
    },
    {
     "name": "stdout",
     "output_type": "stream",
     "text": [
      "Moviepy - Done !\n",
      "Moviepy - video ready neon-erro.mp4\n"
     ]
    }
   ],
   "source": [
    "for _ in range(len(time)):\n",
    "    pictures.append(ImageClip(\"tempfiles\"+\"\\\\\"+file_name+str(j)+'.jpg').set_duration(1/fps))\n",
    "    j+=1\n",
    "shutil.rmtree('tempfiles')\n",
    "video = concatenate(pictures, method=\"compose\")\n",
    "video.write_videofile(file_name+'.mp4', fps=30, codec='h264')\n"
   ]
  },
  {
   "cell_type": "markdown",
   "id": "d989dd3d",
   "metadata": {},
   "source": [
    "# Do whatever you want here"
   ]
  },
  {
   "cell_type": "code",
   "execution_count": 39,
   "id": "345b4019",
   "metadata": {},
   "outputs": [
    {
     "data": {
      "text/plain": [
       "8126.18"
      ]
     },
     "execution_count": 39,
     "metadata": {},
     "output_type": "execute_result"
    }
   ],
   "source": [
    "y=[26.1,30.1,37.3,44.5,50.6,59.6,62.7,68.1]\n",
    "x=[10,20,30,40,50,60,70,80]\n",
    "np.polyfit(x,y,1)\n",
    "def error(x,y,a):\n",
    "    erro=0\n",
    "    for j in range(len(x)):\n",
    "        erro+=(a*x[j]+19-y[j])**2\n",
    "    return erro\n",
    "error(x,y,0)"
   ]
  },
  {
   "cell_type": "code",
   "execution_count": null,
   "id": "774fcc95",
   "metadata": {},
   "outputs": [],
   "source": []
  }
 ],
 "metadata": {
  "kernelspec": {
   "display_name": "Python 3 (ipykernel)",
   "language": "python",
   "name": "python3"
  },
  "language_info": {
   "codemirror_mode": {
    "name": "ipython",
    "version": 3
   },
   "file_extension": ".py",
   "mimetype": "text/x-python",
   "name": "python",
   "nbconvert_exporter": "python",
   "pygments_lexer": "ipython3",
   "version": "3.9.12"
  }
 },
 "nbformat": 4,
 "nbformat_minor": 5
}
